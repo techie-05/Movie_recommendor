{
 "cells": [
  {
   "cell_type": "code",
   "execution_count": 1,
   "id": "b0abc534",
   "metadata": {},
   "outputs": [],
   "source": [
    "import pandas as pd\n",
    "import numpy as np\n",
    "from sklearn.metrics.pairwise import cosine_similarity\n",
    "from sklearn.decomposition import TruncatedSVD\n",
    "from sklearn.preprocessing import MultiLabelBinarizer\n",
    "from sklearn.feature_extraction.text import CountVectorizer\n",
    "from sklearn.naive_bayes import MultinomialNB\n"
   ]
  },
  {
   "cell_type": "code",
   "execution_count": 2,
   "id": "9acfd446",
   "metadata": {},
   "outputs": [],
   "source": [
    "ratings = pd.read_csv('ratings.csv')  # userId,movieId,rating,timestamp\n",
    "movies = pd.read_csv('movies.csv')    # movieId,title,genres\n",
    "tags = pd.read_csv('tags.csv')   "
   ]
  },
  {
   "cell_type": "code",
   "execution_count": 3,
   "id": "98e2f6a0",
   "metadata": {},
   "outputs": [],
   "source": [
    "# Split genres into lists\n",
    "movies['genres'] = movies['genres'].apply(lambda x: x.split('|') if isinstance(x, str) else [])\n",
    "\n",
    "# Merge ratings and movies\n",
    "data = pd.merge(ratings, movies, on='movieId')\n"
   ]
  },
  {
   "cell_type": "code",
   "execution_count": 4,
   "id": "6f236deb",
   "metadata": {},
   "outputs": [],
   "source": [
    "# 4. Collaborative Filtering (Matrix Factorization)\n",
    "user_movie_matrix = data.pivot_table(index='userId', columns='movieId', values='rating').fillna(0)\n",
    "svd = TruncatedSVD(n_components=20, random_state=42)\n",
    "latent_matrix = svd.fit_transform(user_movie_matrix)\n",
    "reconstructed_ratings = np.dot(latent_matrix, svd.components_)\n",
    "reconstructed_df = pd.DataFrame(reconstructed_ratings, index=user_movie_matrix.index, columns=user_movie_matrix.columns)\n",
    "\n",
    "def collaborative_recommend(user_id, n=10):\n",
    "    user_row = reconstructed_df.loc[user_id]\n",
    "    user_rated = user_movie_matrix.loc[user_id]\n",
    "    unseen = user_rated[user_rated == 0].index\n",
    "    recs = user_row[unseen].sort_values(ascending=False).head(n)\n",
    "    return recs.index.tolist()\n"
   ]
  },
  {
   "cell_type": "code",
   "execution_count": 5,
   "id": "29181381",
   "metadata": {},
   "outputs": [],
   "source": [
    "# 5. Content-Based Filtering (Genres)\n",
    "mlb = MultiLabelBinarizer()\n",
    "genre_matrix = mlb.fit_transform(movies['genres'])\n",
    "genre_df = pd.DataFrame(genre_matrix, columns=mlb.classes_, index=movies['movieId'])\n",
    "\n",
    "def content_recommend(user_id, n=10):\n",
    "    user_ratings = data[data['userId'] == user_id][['movieId', 'rating']]\n",
    "    top_movies = user_ratings.sort_values(by='rating', ascending=False).head(5)['movieId']\n",
    "    user_profile = genre_df.loc[top_movies].mean(axis=0).values.reshape(1, -1)\n",
    "    similarities = cosine_similarity(user_profile, genre_df)[0]\n",
    "    sim_scores = pd.Series(similarities, index=genre_df.index)\n",
    "    already_rated = user_ratings['movieId'].tolist()\n",
    "    recs = sim_scores.drop(already_rated).sort_values(ascending=False).head(n)\n",
    "    return recs.index.tolist()\n"
   ]
  },
  {
   "cell_type": "code",
   "execution_count": 6,
   "id": "102fa5a1",
   "metadata": {},
   "outputs": [],
   "source": [
    "# 6. Sentiment-Based Filtering (using tags as pseudo-reviews)\n",
    "# Prepare pseudo-reviews by grouping tags per movie\n",
    "movie_tags = tags.groupby('movieId')['tag'].apply(lambda x: ' '.join(x)).reset_index()\n",
    "movies_with_tags = pd.merge(movies, movie_tags, on='movieId', how='left').fillna('')\n",
    "\n",
    "# Dummy sentiment labels: positive if tag contains 'good', negative if 'bad' (for demo)\n",
    "movies_with_tags['sentiment'] = movies_with_tags['tag'].apply(\n",
    "    lambda x: 1 if 'good' in x.lower() else (0 if 'bad' in x.lower() else 1)\n",
    ")\n",
    "\n",
    "vectorizer = CountVectorizer(stop_words='english')\n",
    "X = vectorizer.fit_transform(movies_with_tags['tag'])\n",
    "y = movies_with_tags['sentiment']\n",
    "clf = MultinomialNB()\n",
    "clf.fit(X, y)\n",
    "\n",
    "def sentiment_score(movie_ids):\n",
    "    subset = movies_with_tags[movies_with_tags['movieId'].isin(movie_ids)]\n",
    "    if subset.empty:\n",
    "        return pd.Series(1, index=movie_ids)\n",
    "    X_test = vectorizer.transform(subset['tag'])\n",
    "    preds = clf.predict_proba(X_test)[:, 1]\n",
    "    sentiment_scores = pd.Series(preds, index=subset['movieId'])\n",
    "    return sentiment_scores.reindex(movie_ids, fill_value=sentiment_scores.mean())\n"
   ]
  },
  {
   "cell_type": "code",
   "execution_count": 7,
   "id": "8b069b97",
   "metadata": {},
   "outputs": [],
   "source": [
    "# 7. Hybrid Recommendation Function\n",
    "def hybrid_recommend(user_id, n=5):\n",
    "    collab_recs = collaborative_recommend(user_id, n=20)\n",
    "    content_recs = content_recommend(user_id, n=20)\n",
    "    combined = list(set(collab_recs) & set(content_recs))\n",
    "    combined += [m for m in collab_recs + content_recs if m not in combined]\n",
    "    combined = combined[:20]\n",
    "    sentiments = sentiment_score(combined)\n",
    "    top = sentiments.sort_values(ascending=False).head(n).index\n",
    "    return movies[movies['movieId'].isin(top)][['movieId', 'title', 'genres']]\n"
   ]
  },
  {
   "cell_type": "code",
   "execution_count": 8,
   "id": "e9aee7f1",
   "metadata": {},
   "outputs": [
    {
     "name": "stdout",
     "output_type": "stream",
     "text": [
      "Top 5 Recommendations for User 1\n",
      "      movieId                                      title  \\\n",
      "31         32  Twelve Monkeys (a.k.a. 12 Monkeys) (1995)   \n",
      "474       541                        Blade Runner (1982)   \n",
      "706       924               2001: A Space Odyssey (1968)   \n",
      "902      1200                              Aliens (1986)   \n",
      "2078     2762                    Sixth Sense, The (1999)   \n",
      "\n",
      "                                   genres  \n",
      "31            [Mystery, Sci-Fi, Thriller]  \n",
      "474            [Action, Sci-Fi, Thriller]  \n",
      "706            [Adventure, Drama, Sci-Fi]  \n",
      "902   [Action, Adventure, Horror, Sci-Fi]  \n",
      "2078             [Drama, Horror, Mystery]  \n"
     ]
    }
   ],
   "source": [
    "# 8. Example Usage: Get Top 5 Recommendations for a User\n",
    "user_id = 1\n",
    "recommendations = hybrid_recommend(user_id, n=5)\n",
    "print(\"Top 5 Recommendations for User\", user_id)\n",
    "print(recommendations)\n"
   ]
  },
  {
   "cell_type": "code",
   "execution_count": 9,
   "id": "e9ae112e",
   "metadata": {},
   "outputs": [
    {
     "data": {
      "text/html": [
       "<div>\n",
       "<style scoped>\n",
       "    .dataframe tbody tr th:only-of-type {\n",
       "        vertical-align: middle;\n",
       "    }\n",
       "\n",
       "    .dataframe tbody tr th {\n",
       "        vertical-align: top;\n",
       "    }\n",
       "\n",
       "    .dataframe thead th {\n",
       "        text-align: right;\n",
       "    }\n",
       "</style>\n",
       "<table border=\"1\" class=\"dataframe\">\n",
       "  <thead>\n",
       "    <tr style=\"text-align: right;\">\n",
       "      <th></th>\n",
       "      <th>movieId</th>\n",
       "      <th>title</th>\n",
       "      <th>genres</th>\n",
       "    </tr>\n",
       "  </thead>\n",
       "  <tbody>\n",
       "    <tr>\n",
       "      <th>31</th>\n",
       "      <td>32</td>\n",
       "      <td>Twelve Monkeys (a.k.a. 12 Monkeys) (1995)</td>\n",
       "      <td>[Mystery, Sci-Fi, Thriller]</td>\n",
       "    </tr>\n",
       "    <tr>\n",
       "      <th>474</th>\n",
       "      <td>541</td>\n",
       "      <td>Blade Runner (1982)</td>\n",
       "      <td>[Action, Sci-Fi, Thriller]</td>\n",
       "    </tr>\n",
       "    <tr>\n",
       "      <th>706</th>\n",
       "      <td>924</td>\n",
       "      <td>2001: A Space Odyssey (1968)</td>\n",
       "      <td>[Adventure, Drama, Sci-Fi]</td>\n",
       "    </tr>\n",
       "    <tr>\n",
       "      <th>902</th>\n",
       "      <td>1200</td>\n",
       "      <td>Aliens (1986)</td>\n",
       "      <td>[Action, Adventure, Horror, Sci-Fi]</td>\n",
       "    </tr>\n",
       "    <tr>\n",
       "      <th>2078</th>\n",
       "      <td>2762</td>\n",
       "      <td>Sixth Sense, The (1999)</td>\n",
       "      <td>[Drama, Horror, Mystery]</td>\n",
       "    </tr>\n",
       "  </tbody>\n",
       "</table>\n",
       "</div>"
      ],
      "text/plain": [
       "      movieId                                      title  \\\n",
       "31         32  Twelve Monkeys (a.k.a. 12 Monkeys) (1995)   \n",
       "474       541                        Blade Runner (1982)   \n",
       "706       924               2001: A Space Odyssey (1968)   \n",
       "902      1200                              Aliens (1986)   \n",
       "2078     2762                    Sixth Sense, The (1999)   \n",
       "\n",
       "                                   genres  \n",
       "31            [Mystery, Sci-Fi, Thriller]  \n",
       "474            [Action, Sci-Fi, Thriller]  \n",
       "706            [Adventure, Drama, Sci-Fi]  \n",
       "902   [Action, Adventure, Horror, Sci-Fi]  \n",
       "2078             [Drama, Horror, Mystery]  "
      ]
     },
     "metadata": {},
     "output_type": "display_data"
    }
   ],
   "source": [
    "\n",
    "# 9. (Optional) Display as a Table\n",
    "import IPython.display as display\n",
    "display.display(recommendations)"
   ]
  },
  {
   "cell_type": "code",
   "execution_count": null,
   "id": "a4aa3ebc",
   "metadata": {},
   "outputs": [],
   "source": []
  }
 ],
 "metadata": {
  "kernelspec": {
   "display_name": "Python 3",
   "language": "python",
   "name": "python3"
  },
  "language_info": {
   "codemirror_mode": {
    "name": "ipython",
    "version": 3
   },
   "file_extension": ".py",
   "mimetype": "text/x-python",
   "name": "python",
   "nbconvert_exporter": "python",
   "pygments_lexer": "ipython3",
   "version": "3.12.6"
  }
 },
 "nbformat": 4,
 "nbformat_minor": 5
}
